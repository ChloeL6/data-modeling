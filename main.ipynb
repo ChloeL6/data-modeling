{
 "cells": [
  {
   "attachments": {},
   "cell_type": "markdown",
   "metadata": {},
   "source": [
    "## Setup"
   ]
  },
  {
   "cell_type": "code",
   "execution_count": 1,
   "metadata": {},
   "outputs": [
    {
     "name": "stdout",
     "output_type": "stream",
     "text": [
      "[DEBUG][2023-01-08 13:37:22,971][4118340907:0082] : Creating bigquery client\n",
      "[INFO ][2023-01-08 13:37:22,985][4118340907:0085] : Setup Completed\n"
     ]
    }
   ],
   "source": [
    "import os\n",
    "import sys\n",
    "import logging\n",
    "import pandas as pd\n",
    "from google.cloud import bigquery\n",
    "from hashlib import md5\n",
    "from typing import List\n",
    "\n",
    "\n",
    "# **** SETUP ****\n",
    "\n",
    "# change to match your filesystem\n",
    "DATA_DIR = \"../data/\"\n",
    "DEFAULT_RECEIPTS_FILE = os.path.join(DATA_DIR, \"tickets.json\")\n",
    "# change to match your gcloud project \n",
    "PROJECT_NAME = \"deb-01-372112\"\n",
    "DATASET_NAME = \"tickets\"\n",
    "\n",
    "\n",
    "# **** TABLE SCHEMAS ****\n",
    "\n",
    "TABLE_METADATA = {\n",
    "    'airlines': {\n",
    "        'table_name': 'airlines',\n",
    "        'schema': [\n",
    "            # indexes are written if only named in the schema\n",
    "            bigquery.SchemaField('airline_iata', 'string', mode='REQUIRED'),\n",
    "            bigquery.SchemaField('airline_name', 'string', mode='REQUIRED'),\n",
    "            bigquery.SchemaField('airline_icao', 'string', mode='REQUIRED'),\n",
    "            bigquery.SchemaField('airline_callsign', 'string', mode='REQUIRED'),\n",
    "            bigquery.SchemaField('airline_country', 'string', mode='REQUIRED'),\n",
    "        ],\n",
    "    },\n",
    "    'airports': {\n",
    "        'table_name': 'airports',\n",
    "        'schema': [\n",
    "            # indexes are written if only named in the schema\n",
    "            bigquery.SchemaField('airport_iata', 'string', mode='REQUIRED'),\n",
    "            bigquery.SchemaField('airport_city', 'string', mode='REQUIRED'),\n",
    "            bigquery.SchemaField('airport_country', 'string', mode='NULLABLE'),\n",
    "            bigquery.SchemaField('airport_name', 'string', mode='REQUIRED'),\n",
    "            bigquery.SchemaField('airport_icao', 'string', mode='REQUIRED'),\n",
    "            bigquery.SchemaField('airport_latitude', 'float', mode='REQUIRED'),\n",
    "            bigquery.SchemaField('airport_longitude', 'float', mode='REQUIRED'),\n",
    "            bigquery.SchemaField('airport_altitude', 'int64', mode='REQUIRED'),\n",
    "            bigquery.SchemaField('airport_tz_timezone', 'string', mode='REQUIRED')\n",
    "        ],\n",
    "    },\n",
    "  'passengers': {\n",
    "        'table_name': 'passengers',\n",
    "        'schema': [\n",
    "            bigquery.SchemaField('passenger_sk', 'string', mode='REQUIRED'),\n",
    "            bigquery.SchemaField('first_name', 'string', mode='REQUIRED'),\n",
    "            bigquery.SchemaField('last_name', 'string', mode='REQUIRED'),\n",
    "            bigquery.SchemaField('gender', 'string', mode='REQUIRED'),\n",
    "            bigquery.SchemaField('birth_date', 'date_time', mode='REQUIRED'),\n",
    "            bigquery.SchemaField('email', 'string', mode='REQUIRED'),\n",
    "            bigquery.SchemaField('street', 'string', mode='REQUIRED'),\n",
    "            bigquery.SchemaField('city', 'string', mode='REQUIRED'),\n",
    "            bigquery.SchemaField('state', 'string', mode='REQUIRED'),\n",
    "            bigquery.SchemaField('zip', 'string', mode='REQUIRED'),\n",
    "            bigquery.SchemaField('start_date', 'date_time', mode='REQUIRED'),\n",
    "            bigquery.SchemaField('end_date', 'date_time', mode='REQUIRED'),\n",
    "\n",
    "        ]\n",
    "    }  \n",
    "}\n",
    "\n",
    "\n",
    "# **** SETUP LOGGING ****\n",
    "# setup logging and logger\n",
    "logging.basicConfig(            # setting up the root logger\n",
    "    format='[%(levelname)-5s][%(asctime)s][%(module)s:%(lineno)04d] : %(message)s',\n",
    "    level=logging.INFO,\n",
    "    stream=sys.stdout\n",
    ")\n",
    "logger: logging.Logger = logging.getLogger('root')      # alias the root logger as `logger`\n",
    "logger.setLevel(logging.DEBUG)                          # programmatically reassign the logging level\n",
    "\n",
    "\n",
    "# **** BIGQUERY CLIENT ****\n",
    "logger.debug(f\"Creating bigquery client\")\n",
    "client = bigquery.Client()\n",
    "\n",
    "logger.info(f\"Setup Completed\")"
   ]
  }
 ],
 "metadata": {
  "kernelspec": {
   "display_name": "Python 3",
   "language": "python",
   "name": "python3"
  },
  "language_info": {
   "codemirror_mode": {
    "name": "ipython",
    "version": 3
   },
   "file_extension": ".py",
   "mimetype": "text/x-python",
   "name": "python",
   "nbconvert_exporter": "python",
   "pygments_lexer": "ipython3",
   "version": "3.8.10"
  },
  "orig_nbformat": 4,
  "vscode": {
   "interpreter": {
    "hash": "31f2aee4e71d21fbe5cf8b01ff0e069b9275f58929596ceb00d14d90e3e16cd6"
   }
  }
 },
 "nbformat": 4,
 "nbformat_minor": 2
}
